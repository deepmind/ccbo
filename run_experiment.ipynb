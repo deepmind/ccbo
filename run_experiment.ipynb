{
  "cells": [
    {
      "cell_type": "markdown",
      "metadata": {
        "id": "2nJD7Yo-5Mfo"
      },
      "source": [
        "# Constrained Causal Bayesian Optimization\n",
        "\n",
        "## Introduction\n",
        "\n",
        "This notebook contains code for running the 'Constrained Causal Bayesian Optimization' method introduced in the ICML 2023 paper [\"Constrained Causal Bayesian Optimization\"](https://arxiv.org/abs/2305.20011) by Virginia Aglietti, Alan Malek, Ira Ktena and Silvia Chiappa.\n",
        "\n",
        "### Abstract\n",
        "\n",
        "We propose constrained causal Bayesian optimization (cCBO), an approach for finding interventions in a known causal graph that optimize a target variable *under some constraints*. cCBO first reduces the search space by exploiting the graph structure and, if available, an observational dataset; and then solves the restricted optimization problem by modelling target and constraint quantities using Gaussian processes and by sequentially selecting interventions via a constrained expected improvement acquisition function. We propose different surrogate models that enable to integrate observational and interventional data while capturing correlation among effects with increasing levels of sophistication. We evaluate cCBO on artificial and real-world causal graphs showing successful trade off between fast convergence and percentage\n",
        "of feasible interventions.\n",
        "\n",
        "## Implementation details\n",
        "\n",
        "Note that the code requires `python3.10` and `python3.10-dev`. Installation instructions are given in the `README.md` file.\n",
        "\n",
        "## Notebook overview:\n",
        "* We first define the list of algorithms we wish to run on a specific SCM example and set their parameters. This Colab can be used to run cCBO with different surrogate models as well as the baseline methods (random and CBO).\n",
        "* We then select the SCM example we wish to run the experiment for and compute their associated constrained and unconstrained optimum. A full list\n",
        "of available SCM examples is given in `experiments/data.py`.\n",
        "* We generate observational and interventional data from the selected example that are then used to initialize the algorithms.\n",
        "* We finally run the selected algorithms for a given number of trials and plot their convergence to the global optimum (constrained or unconstrained)."
      ]
    },
    {
      "cell_type": "code",
      "execution_count": null,
      "metadata": {
        "id": "GiKQSQLT4EnF"
      },
      "outputs": [],
      "source": [
        "# Set working directory to the parent directory of ccbo\n",
        "import os\n",
        "os.chdir('..')"
      ]
    },
    {
      "cell_type": "code",
      "execution_count": null,
      "metadata": {
        "cellView": "form",
        "id": "gZl4cXYYAhSw"
      },
      "outputs": [],
      "source": [
        "#@title Importing Packages\n",
        "from ccbo.methods import ccbo\n",
        "from ccbo.methods import cbo\n",
        "from ccbo.methods import random\n",
        "from ccbo.experiments import data\n",
        "from ccbo.utils import sampling_utils\n",
        "from ccbo.utils import initialisation_utils\n",
        "from ccbo.utils import scm_utils\n",
        "from ccbo.utils import plotting_utils"
      ]
    },
    {
      "cell_type": "code",
      "execution_count": null,
      "metadata": {
        "cellView": "form",
        "id": "vfFyWFSPDXBF"
      },
      "outputs": [],
      "source": [
        "#@title Set list of algorithms to run\n",
        "alg_to_run = ['cbo', 'random', 'ccbo_single_task', 'ccbo_single_task_causal_prior', 'ccbo_multi_task', 'ccbo_multi_task_causal_prior', 'ccbo_dag_multi_task']"
      ]
    },
    {
      "cell_type": "code",
      "execution_count": null,
      "metadata": {
        "cellView": "form",
        "id": "CdcJBEKvGt4l"
      },
      "outputs": [],
      "source": [
        "#@title Set alg parameters\n",
        "\n",
        "# Number of trials to run the alg for\n",
        "# N.B. Decrese this value to a small number e.g. 3 to quickly run the algs\n",
        "n_trials = 50\n",
        "# Grid to use to optimize acquisition function\n",
        "n_grid_points = 100\n",
        "# Optimize on a grid of point or on sampled points\n",
        "sample_anchor_points = False\n",
        "# Number of sample to use to generate the ground truth target effect\n",
        "n_samples_ground_truth = 100\n",
        "# Sampling seed for the ground truth and the sampling of the target function\n",
        "sampling_seed = 1\n",
        "# Whether to use noisy observations of the target and the constraints\n",
        "noisy_observations = True\n",
        "# Whether to produce plot and print statistics\n",
        "verbose = False\n",
        "# Number of restarts of GP optimization\n",
        "n_restart = 1\n",
        "# Number of observations\n",
        "n_samples_obs = 100\n",
        "# Number of samples for each intervention\n",
        "n_samples_per_intervention = 100\n",
        "# Number of samples for kernel eval\n",
        "n_kernel_samples = 10\n",
        "# Use hyper-prior for GP hyper-parameters\n",
        "hp_prior = True\n",
        "# Are data points noisy\n",
        "noisy_observations = True"
      ]
    },
    {
      "cell_type": "code",
      "execution_count": null,
      "metadata": {
        "cellView": "form",
        "id": "H25AL9Z0BobN"
      },
      "outputs": [],
      "source": [
        "#@title Import SCM example, set MIS perturbations and interventional domains\n",
        "example = data.EXAMPLES_DICT[\"synthetic1\"]()\n",
        "scm = example.structural_causal_model(\n",
        "    variables=(\"X\", \"Z\"), lambdas=(1., 2.))\n",
        "constraints = scm.constraints\n",
        "graph = scm.graph\n",
        "exploration_sets = ((\"X\",), (\"Z\",))\n",
        "intervention_domain = {\"X\": [-3, 2], \"Z\": [-1, 1]}\n"
      ]
    },
    {
      "cell_type": "code",
      "execution_count": null,
      "metadata": {
        "cellView": "form",
        "id": "fc43CuFAGdRg"
      },
      "outputs": [],
      "source": [
        "#@title Initialize SCM (un)constrained optimum\n",
        "(_, _, intervention_domain, all_ce,\n",
        "  _, constraints_values, optimal_unconstrained_y,\n",
        "  optimal_constrained_y, optimal_constrained_level,\n",
        "  optimal_constrained_set) = scm.setup(\n",
        "      n_grid_points=n_grid_points,\n",
        "      exploration_sets=list(exploration_sets),\n",
        "      n_samples=n_samples_ground_truth,\n",
        "      sampling_seed=sampling_seed)\n"
      ]
    },
    {
      "cell_type": "code",
      "execution_count": null,
      "metadata": {
        "cellView": "form",
        "id": "XUCmJJKfBoes"
      },
      "outputs": [],
      "source": [
        "#@title Generate observational data\n",
        "d_o = sampling_utils.sample_scm(\n",
        "    scm_funcs=scm.scm_funcs,\n",
        "    graph=None,\n",
        "    n_samples=n_samples_obs,\n",
        "    compute_moments=False,\n",
        "    seed=sampling_seed)"
      ]
    },
    {
      "cell_type": "code",
      "execution_count": null,
      "metadata": {
        "cellView": "form",
        "id": "uermwxJJC012"
      },
      "outputs": [],
      "source": [
        "#@title Generate interventional data\n",
        "d_i = {k: None for k in exploration_sets}\n",
        "\n",
        "for var, level in zip(exploration_sets, ((1.,), (0.,))):\n",
        "  initialisation_utils.assign_interventions(\n",
        "      variables=var,\n",
        "      levels=level,\n",
        "      n_samples_per_intervention=n_samples_per_intervention,\n",
        "      sampling_seed=sampling_seed,\n",
        "      d_i=d_i,\n",
        "      graph=graph,\n",
        "      scm_funcs=scm.scm_funcs)"
      ]
    },
    {
      "cell_type": "code",
      "execution_count": null,
      "metadata": {
        "cellView": "form",
        "id": "Kzs0PMxyDN1l"
      },
      "outputs": [],
      "source": [
        "#@title Run algorithms\n",
        "results = {}\n",
        "for alg_name in alg_to_run:\n",
        "  use_causal_prior = alg_name in [\"ccbo_single_task_causal_prior\", \"ccbo_dag_multi_task\"]\n",
        "  is_multi_task = alg_name in [\"ccbo_multi_task\", \"ccbo_multi_task_causal_prior\", \"ccbo_dag_multi_task\"]\n",
        "  use_prior_mean = alg_name in [\"ccbo_single_task_causal_prior\", \"ccbo_multi_task_causal_prior\", \"ccbo_dag_multi_task\"]\n",
        "\n",
        "  # Set input params for the algorithm\n",
        "  input_params = {\n",
        "      \"graph\": graph,\n",
        "      \"scm\": scm,\n",
        "      \"make_scm_estimator\": scm_utils.build_fitted_scm,\n",
        "      \"exploration_sets\": list(exploration_sets),\n",
        "      \"observation_samples\": d_o,\n",
        "      \"intervention_samples\": d_i,\n",
        "      'number_of_trials': n_trials,\n",
        "      \"intervention_domain\": intervention_domain,\n",
        "      \"sample_anchor_points\": sample_anchor_points,\n",
        "      \"num_anchor_points\": n_grid_points,\n",
        "      \"sampling_seed\": sampling_seed,\n",
        "      \"n_restart\": n_restart,\n",
        "      \"causal_prior\": use_causal_prior,\n",
        "      \"hp_prior\": hp_prior,\n",
        "\n",
        "      # Noisy observations\n",
        "      \"noisy_observations\": noisy_observations,\n",
        "      \"n_samples_per_intervention\": n_samples_per_intervention\n",
        "  }\n",
        "\n",
        "  if alg_name == \"cbo\":\n",
        "    alg = cbo.CBO(**input_params)\n",
        "  elif alg_name == \"random\":\n",
        "    alg = random.Random(**input_params)\n",
        "  else:\n",
        "    # Add constraints\n",
        "    input_params[\"ground_truth_constraints\"] = constraints_values\n",
        "    input_params[\"constraints\"] = constraints\n",
        "    input_params[\"multi_task_model\"] = is_multi_task\n",
        "    input_params[\"use_prior_mean\"] = use_prior_mean\n",
        "\n",
        "    if alg_name == \"ccbo_dag_multi_task\":\n",
        "      # Monte Carlo construction of the kernel\n",
        "      input_params[\"n_kernel_samples\"] = n_kernel_samples\n",
        "\n",
        "    alg = ccbo.CCBO(**input_params)\n",
        "\n",
        "\n",
        "  # Run\n",
        "  alg.run()\n",
        "\n",
        "\n",
        "  results[alg_name] = alg.optimal_outcome_values_during_trials"
      ]
    },
    {
      "cell_type": "code",
      "execution_count": null,
      "metadata": {
        "cellView": "form",
        "id": "VktWa5n6EA3d"
      },
      "outputs": [],
      "source": [
        "#@title Plot convergence\n",
        "plotting_utils.plot_outcome(\n",
        "      n_trials,\n",
        "      outcomes=list(results.values()),\n",
        "      labels=list(results.keys()),\n",
        "      title = \"CBO, Random and cCBO with different surrogate models\",\n",
        "      true_objective_values=optimal_constrained_y)\n"
      ]
    },
    {
      "cell_type": "code",
      "execution_count": null,
      "metadata": {
        "id": "DLOrjydJoWJG"
      },
      "outputs": [],
      "source": []
    }
  ],
  "metadata": {
    "colab": {
      "private_outputs": true,
      "provenance": []
    },
    "kernelspec": {
      "display_name": "Python 3",
      "name": "python3"
    },
    "language_info": {
      "name": "python"
    }
  },
  "nbformat": 4,
  "nbformat_minor": 0
}
